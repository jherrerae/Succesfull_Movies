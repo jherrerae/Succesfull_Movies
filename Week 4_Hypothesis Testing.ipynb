{
 "cells": [
  {
   "cell_type": "code",
   "execution_count": 138,
   "id": "0946638f",
   "metadata": {},
   "outputs": [],
   "source": [
    "import pandas as pd\n",
    "import numpy as np\n",
    "import scipy.stats as stats\n",
    "import matplotlib.pyplot as plt\n",
    "import seaborn as sns\n",
    "plt.style.use('seaborn')"
   ]
  },
  {
   "cell_type": "markdown",
   "id": "68e9f0b9",
   "metadata": {},
   "source": [
    "# Load Data"
   ]
  },
  {
   "cell_type": "code",
   "execution_count": 8,
   "id": "f9bd37cb",
   "metadata": {},
   "outputs": [],
   "source": [
    "#load data from local folder\n",
    "\n",
    "basics_local='Data/title_basics_filtered.csv.gz'\n",
    "ratings_local='Data/title_ratings_filtered.csv.gz'\n",
    "aka_local='Data/title_akas_filtered.csv.gz'"
   ]
  },
  {
   "cell_type": "code",
   "execution_count": 9,
   "id": "d5e460fe",
   "metadata": {
    "scrolled": false
   },
   "outputs": [],
   "source": [
    "df_basics = pd.read_csv(basics_local)\n",
    "df_ratings = pd.read_csv(ratings_local)\n",
    "df_aka = pd.read_csv(aka_local)"
   ]
  },
  {
   "cell_type": "code",
   "execution_count": 10,
   "id": "064d214a",
   "metadata": {},
   "outputs": [
    {
     "name": "stdout",
     "output_type": "stream",
     "text": [
      "<class 'pandas.core.frame.DataFrame'>\n",
      "RangeIndex: 82213 entries, 0 to 82212\n",
      "Data columns (total 9 columns):\n",
      " #   Column          Non-Null Count  Dtype  \n",
      "---  ------          --------------  -----  \n",
      " 0   tconst          82213 non-null  object \n",
      " 1   titleType       82213 non-null  object \n",
      " 2   primaryTitle    82213 non-null  object \n",
      " 3   originalTitle   82213 non-null  object \n",
      " 4   isAdult         82213 non-null  int64  \n",
      " 5   startYear       82213 non-null  float64\n",
      " 6   endYear         0 non-null      float64\n",
      " 7   runtimeMinutes  82213 non-null  int64  \n",
      " 8   genres          82213 non-null  object \n",
      "dtypes: float64(2), int64(2), object(5)\n",
      "memory usage: 5.6+ MB\n"
     ]
    }
   ],
   "source": [
    "df_basics.info()"
   ]
  },
  {
   "cell_type": "code",
   "execution_count": 11,
   "id": "be79dade",
   "metadata": {},
   "outputs": [
    {
     "name": "stdout",
     "output_type": "stream",
     "text": [
      "<class 'pandas.core.frame.DataFrame'>\n",
      "RangeIndex: 1343796 entries, 0 to 1343795\n",
      "Data columns (total 8 columns):\n",
      " #   Column           Non-Null Count    Dtype  \n",
      "---  ------           --------------    -----  \n",
      " 0   titleId          1343796 non-null  object \n",
      " 1   ordering         1343796 non-null  int64  \n",
      " 2   title            1343796 non-null  object \n",
      " 3   region           1343796 non-null  object \n",
      " 4   language         3685 non-null     object \n",
      " 5   types            963507 non-null   object \n",
      " 6   attributes       44791 non-null    object \n",
      " 7   isOriginalTitle  1342421 non-null  float64\n",
      "dtypes: float64(1), int64(1), object(6)\n",
      "memory usage: 82.0+ MB\n"
     ]
    }
   ],
   "source": [
    "df_aka.info()"
   ]
  },
  {
   "cell_type": "code",
   "execution_count": 12,
   "id": "4c4a17e2",
   "metadata": {},
   "outputs": [
    {
     "name": "stdout",
     "output_type": "stream",
     "text": [
      "<class 'pandas.core.frame.DataFrame'>\n",
      "RangeIndex: 1255994 entries, 0 to 1255993\n",
      "Data columns (total 3 columns):\n",
      " #   Column         Non-Null Count    Dtype  \n",
      "---  ------         --------------    -----  \n",
      " 0   tconst         1255994 non-null  object \n",
      " 1   averageRating  1255994 non-null  float64\n",
      " 2   numVotes       1255994 non-null  int64  \n",
      "dtypes: float64(1), int64(1), object(1)\n",
      "memory usage: 28.7+ MB\n"
     ]
    }
   ],
   "source": [
    "#Ratings didn't need any addtional data preparation\n",
    "df_ratings.info()"
   ]
  },
  {
   "cell_type": "code",
   "execution_count": 13,
   "id": "793d3944",
   "metadata": {},
   "outputs": [
    {
     "data": {
      "text/html": [
       "<div>\n",
       "<style scoped>\n",
       "    .dataframe tbody tr th:only-of-type {\n",
       "        vertical-align: middle;\n",
       "    }\n",
       "\n",
       "    .dataframe tbody tr th {\n",
       "        vertical-align: top;\n",
       "    }\n",
       "\n",
       "    .dataframe thead th {\n",
       "        text-align: right;\n",
       "    }\n",
       "</style>\n",
       "<table border=\"1\" class=\"dataframe\">\n",
       "  <thead>\n",
       "    <tr style=\"text-align: right;\">\n",
       "      <th></th>\n",
       "      <th>titleId</th>\n",
       "      <th>ordering</th>\n",
       "      <th>title</th>\n",
       "      <th>language</th>\n",
       "      <th>types</th>\n",
       "      <th>attributes</th>\n",
       "      <th>isOriginalTitle</th>\n",
       "    </tr>\n",
       "    <tr>\n",
       "      <th>region</th>\n",
       "      <th></th>\n",
       "      <th></th>\n",
       "      <th></th>\n",
       "      <th></th>\n",
       "      <th></th>\n",
       "      <th></th>\n",
       "      <th></th>\n",
       "    </tr>\n",
       "  </thead>\n",
       "  <tbody>\n",
       "    <tr>\n",
       "      <th>US</th>\n",
       "      <td>1343796</td>\n",
       "      <td>1343796</td>\n",
       "      <td>1343796</td>\n",
       "      <td>3685</td>\n",
       "      <td>963507</td>\n",
       "      <td>44791</td>\n",
       "      <td>1342421</td>\n",
       "    </tr>\n",
       "  </tbody>\n",
       "</table>\n",
       "</div>"
      ],
      "text/plain": [
       "        titleId  ordering    title  language   types  attributes  \\\n",
       "region                                                             \n",
       "US      1343796   1343796  1343796      3685  963507       44791   \n",
       "\n",
       "        isOriginalTitle  \n",
       "region                   \n",
       "US              1342421  "
      ]
     },
     "execution_count": 13,
     "metadata": {},
     "output_type": "execute_result"
    }
   ],
   "source": [
    "df_aka.groupby('region').count()"
   ]
  },
  {
   "cell_type": "code",
   "execution_count": 14,
   "id": "b33d583b",
   "metadata": {},
   "outputs": [],
   "source": [
    "import os, time,json\n",
    "import tmdbsimple as tmdb \n",
    "from tqdm.notebook import tqdm_notebook\n",
    "FOLDER = \"Data/\""
   ]
  },
  {
   "cell_type": "code",
   "execution_count": 15,
   "id": "f426552b",
   "metadata": {},
   "outputs": [
    {
     "data": {
      "text/plain": [
       "dict_keys(['client-id', 'api-key'])"
      ]
     },
     "execution_count": 15,
     "metadata": {},
     "output_type": "execute_result"
    }
   ],
   "source": [
    "with open('/Users/JoseH/.secret/tmdb_api.json', 'r') as f:\n",
    "    login = json.load(f)\n",
    "## Display the keys of the loaded dict\n",
    "login.keys()\n"
   ]
  },
  {
   "cell_type": "code",
   "execution_count": 16,
   "id": "9e49bce7",
   "metadata": {},
   "outputs": [],
   "source": [
    "tmdb.API_KEY =  login['api-key']"
   ]
  },
  {
   "cell_type": "code",
   "execution_count": 17,
   "id": "2681e567",
   "metadata": {},
   "outputs": [],
   "source": [
    "def write_json(new_data, filename): \n",
    "    \"\"\"Adapted from: https://www.geeksforgeeks.org/append-to-json-file-using-python/\"\"\"    \n",
    "    \n",
    "    with open(filename,'r+') as file:\n",
    "        # First we load existing data into a dict.\n",
    "        file_data = json.load(file)\n",
    "        ## Choose extend or append\n",
    "        if (type(new_data) == list) & (type(file_data) == list):\n",
    "            file_data.extend(new_data)\n",
    "        else:\n",
    "             file_data.append(new_data)\n",
    "        # Sets file's current position at offset.\n",
    "        file.seek(0)\n",
    "        # convert back to json.\n",
    "        json.dump(file_data, file)"
   ]
  },
  {
   "cell_type": "code",
   "execution_count": 18,
   "id": "c3090f06",
   "metadata": {},
   "outputs": [],
   "source": [
    "def movie_data(id):\n",
    "    # Get the movie object for the current id\n",
    "    movie = tmdb.Movies(id)\n",
    "    # save the .info .releases dictionaries\n",
    "    info = movie.info()\n",
    "    releases = movie.releases()\n",
    "    # Loop through countries in releases\n",
    "    for c in releases['countries']:\n",
    "        # if the country abbreviation==US\n",
    "        if c['iso_3166_1' ] =='US':\n",
    "            ## save a \"certification\" key in the info dict with the certification\n",
    "           info['certification'] = c['certification']\n",
    "    return info"
   ]
  },
  {
   "cell_type": "markdown",
   "id": "ad481709",
   "metadata": {},
   "source": [
    "## Load data from 5 years before the pandemic"
   ]
  },
  {
   "cell_type": "code",
   "execution_count": 25,
   "id": "19adbc2e",
   "metadata": {
    "scrolled": true
   },
   "outputs": [
    {
     "data": {
      "text/plain": [
       "[2015, 2016, 2017, 2018, 2019]"
      ]
     },
     "execution_count": 25,
     "metadata": {},
     "output_type": "execute_result"
    }
   ],
   "source": [
    "years=[]\n",
    "for i in range(2015,2020,1):\n",
    "    years.append(i)\n",
    "years"
   ]
  },
  {
   "cell_type": "code",
   "execution_count": 26,
   "id": "d7617247",
   "metadata": {},
   "outputs": [
    {
     "data": {
      "application/vnd.jupyter.widget-view+json": {
       "model_id": "a45e63deb7334c4aa646852f12782551",
       "version_major": 2,
       "version_minor": 0
      },
      "text/plain": [
       "YEARS:   0%|          | 0/5 [00:00<?, ?it/s]"
      ]
     },
     "metadata": {},
     "output_type": "display_data"
    },
    {
     "data": {
      "application/vnd.jupyter.widget-view+json": {
       "model_id": "cb89fbc2d83243a48b514c6bd73fb00b",
       "version_major": 2,
       "version_minor": 0
      },
      "text/plain": [
       "Movies from 2015:   0%|          | 0/4930 [00:00<?, ?it/s]"
      ]
     },
     "metadata": {},
     "output_type": "display_data"
    },
    {
     "data": {
      "application/vnd.jupyter.widget-view+json": {
       "model_id": "2a147a86aa90423883ecfe6aa60f8e90",
       "version_major": 2,
       "version_minor": 0
      },
      "text/plain": [
       "Movies from 2016:   0%|          | 0/5140 [00:00<?, ?it/s]"
      ]
     },
     "metadata": {},
     "output_type": "display_data"
    },
    {
     "data": {
      "application/vnd.jupyter.widget-view+json": {
       "model_id": "c841a0185a064d3da2fc982906b8edd5",
       "version_major": 2,
       "version_minor": 0
      },
      "text/plain": [
       "Movies from 2017:   0%|          | 0/5503 [00:00<?, ?it/s]"
      ]
     },
     "metadata": {},
     "output_type": "display_data"
    },
    {
     "data": {
      "application/vnd.jupyter.widget-view+json": {
       "model_id": "dd74c961562245be9ea1d554e83853ab",
       "version_major": 2,
       "version_minor": 0
      },
      "text/plain": [
       "Movies from 2018:   0%|          | 0/5630 [00:00<?, ?it/s]"
      ]
     },
     "metadata": {},
     "output_type": "display_data"
    },
    {
     "data": {
      "application/vnd.jupyter.widget-view+json": {
       "model_id": "74b0f0c25bfb41b2b5c2c870b5ce9dd2",
       "version_major": 2,
       "version_minor": 0
      },
      "text/plain": [
       "Movies from 2019:   0%|          | 0/5726 [00:00<?, ?it/s]"
      ]
     },
     "metadata": {},
     "output_type": "display_data"
    }
   ],
   "source": [
    "for YEAR in tqdm_notebook(years,desc='YEARS',position=0):\n",
    "    JSON_FILE = f'{FOLDER}tmdb_api_results_{YEAR}.json'\n",
    "    file_exists = os.path.isfile(JSON_FILE)\n",
    "    # If it does not exist: create it\n",
    "    if file_exists == False:\n",
    "        # save an empty dict with just \"imdb_id\" to the new json file.\n",
    "        with open(JSON_FILE,'w') as f:\n",
    "            json.dump([{'imdb_id':0}],f)\n",
    "    #Saving new year as the current df\n",
    "    df = df_basics.loc[ df_basics['startYear']==YEAR].copy()\n",
    "    # saving movie ids to list\n",
    "    movie_ids = df['tconst'].copy()#.to_list()\n",
    "    # Load existing data from json into a dataframe called \"previous_df\"\n",
    "    previous_df = pd.read_json(JSON_FILE)\n",
    "    # filter out any ids that are already in the JSON_FILE\n",
    "    movie_ids_to_get = movie_ids[~movie_ids.isin(previous_df['imdb_id'])]\n",
    "    \n",
    "    for movie_id in tqdm_notebook(movie_ids_to_get,\n",
    "                                  desc=f'Movies from {YEAR}',\n",
    "                                  position=1,\n",
    "                                  leave=True):\n",
    "        # Attempt to retrieve then data for the movie id\n",
    "        try:\n",
    "            temp = movie_data(movie_id)  #This uses your pre-made function\n",
    "            # Append/extend results to existing file using a pre-made function\n",
    "            write_json(temp,JSON_FILE)\n",
    "            # Short 20 ms sleep to prevent overwhelming server\n",
    "            time.sleep(0.02)\n",
    "            \n",
    "        # If it fails,  make a dict with just the id and None for certification.\n",
    "        except Exception as e:\n",
    "            continue\n",
    "    final_year_df = pd.read_json(JSON_FILE)\n",
    "    final_year_df.to_csv(f\"{FOLDER}final_tmdb_data_{YEAR}.csv.gz\", compression=\"gzip\", index=False)"
   ]
  },
  {
   "cell_type": "code",
   "execution_count": 28,
   "id": "78b2a560",
   "metadata": {},
   "outputs": [],
   "source": [
    "files_combined=[]\n",
    "for YEAR in years:\n",
    "    JSON_FILE = f'Data/tmdb_api_results_{YEAR}.json'\n",
    "    with open(JSON_FILE, 'r') as file:\n",
    "            files_combined.extend(json.load(file))"
   ]
  },
  {
   "cell_type": "code",
   "execution_count": 248,
   "id": "0ae14095",
   "metadata": {},
   "outputs": [
    {
     "data": {
      "text/html": [
       "<div>\n",
       "<style scoped>\n",
       "    .dataframe tbody tr th:only-of-type {\n",
       "        vertical-align: middle;\n",
       "    }\n",
       "\n",
       "    .dataframe tbody tr th {\n",
       "        vertical-align: top;\n",
       "    }\n",
       "\n",
       "    .dataframe thead th {\n",
       "        text-align: right;\n",
       "    }\n",
       "</style>\n",
       "<table border=\"1\" class=\"dataframe\">\n",
       "  <thead>\n",
       "    <tr style=\"text-align: right;\">\n",
       "      <th></th>\n",
       "      <th>imdb_id</th>\n",
       "      <th>adult</th>\n",
       "      <th>backdrop_path</th>\n",
       "      <th>belongs_to_collection</th>\n",
       "      <th>budget</th>\n",
       "      <th>genres</th>\n",
       "      <th>homepage</th>\n",
       "      <th>id</th>\n",
       "      <th>original_language</th>\n",
       "      <th>original_title</th>\n",
       "      <th>...</th>\n",
       "      <th>revenue</th>\n",
       "      <th>runtime</th>\n",
       "      <th>spoken_languages</th>\n",
       "      <th>status</th>\n",
       "      <th>tagline</th>\n",
       "      <th>title</th>\n",
       "      <th>video</th>\n",
       "      <th>vote_average</th>\n",
       "      <th>vote_count</th>\n",
       "      <th>certification</th>\n",
       "    </tr>\n",
       "  </thead>\n",
       "  <tbody>\n",
       "    <tr>\n",
       "      <th>0</th>\n",
       "      <td>0</td>\n",
       "      <td>NaN</td>\n",
       "      <td>NaN</td>\n",
       "      <td>NaN</td>\n",
       "      <td>NaN</td>\n",
       "      <td>NaN</td>\n",
       "      <td>NaN</td>\n",
       "      <td>NaN</td>\n",
       "      <td>NaN</td>\n",
       "      <td>NaN</td>\n",
       "      <td>...</td>\n",
       "      <td>NaN</td>\n",
       "      <td>NaN</td>\n",
       "      <td>NaN</td>\n",
       "      <td>NaN</td>\n",
       "      <td>NaN</td>\n",
       "      <td>NaN</td>\n",
       "      <td>NaN</td>\n",
       "      <td>NaN</td>\n",
       "      <td>NaN</td>\n",
       "      <td>NaN</td>\n",
       "    </tr>\n",
       "    <tr>\n",
       "      <th>1</th>\n",
       "      <td>tt0191476</td>\n",
       "      <td>False</td>\n",
       "      <td>None</td>\n",
       "      <td>None</td>\n",
       "      <td>0.0</td>\n",
       "      <td>[{'id': 35, 'name': 'Comedy'}]</td>\n",
       "      <td></td>\n",
       "      <td>365165.0</td>\n",
       "      <td>ro</td>\n",
       "      <td>Această lehamite</td>\n",
       "      <td>...</td>\n",
       "      <td>0.000000e+00</td>\n",
       "      <td>98.0</td>\n",
       "      <td>[{'english_name': 'Romanian', 'iso_639_1': 'ro...</td>\n",
       "      <td>Released</td>\n",
       "      <td></td>\n",
       "      <td>Fed Up</td>\n",
       "      <td>False</td>\n",
       "      <td>4.400</td>\n",
       "      <td>5.0</td>\n",
       "      <td>NaN</td>\n",
       "    </tr>\n",
       "    <tr>\n",
       "      <th>2</th>\n",
       "      <td>tt0369610</td>\n",
       "      <td>False</td>\n",
       "      <td>/dF6FjTZzRTENfB4R17HDN20jLT2.jpg</td>\n",
       "      <td>{'id': 328, 'name': 'Jurassic Park Collection'...</td>\n",
       "      <td>150000000.0</td>\n",
       "      <td>[{'id': 28, 'name': 'Action'}, {'id': 12, 'nam...</td>\n",
       "      <td>http://www.jurassicworld.com/</td>\n",
       "      <td>135397.0</td>\n",
       "      <td>en</td>\n",
       "      <td>Jurassic World</td>\n",
       "      <td>...</td>\n",
       "      <td>1.671713e+09</td>\n",
       "      <td>124.0</td>\n",
       "      <td>[{'english_name': 'English', 'iso_639_1': 'en'...</td>\n",
       "      <td>Released</td>\n",
       "      <td>The park is open.</td>\n",
       "      <td>Jurassic World</td>\n",
       "      <td>False</td>\n",
       "      <td>6.675</td>\n",
       "      <td>18412.0</td>\n",
       "      <td>PG-13</td>\n",
       "    </tr>\n",
       "    <tr>\n",
       "      <th>3</th>\n",
       "      <td>tt0420293</td>\n",
       "      <td>False</td>\n",
       "      <td>/b0p0OPx1ZDZVc8iDB1kle0Cc2H9.jpg</td>\n",
       "      <td>None</td>\n",
       "      <td>0.0</td>\n",
       "      <td>[{'id': 53, 'name': 'Thriller'}]</td>\n",
       "      <td>http://www.stanfordprisonexperimentfilm.com/</td>\n",
       "      <td>308032.0</td>\n",
       "      <td>en</td>\n",
       "      <td>The Stanford Prison Experiment</td>\n",
       "      <td>...</td>\n",
       "      <td>6.435570e+05</td>\n",
       "      <td>122.0</td>\n",
       "      <td>[{'english_name': 'English', 'iso_639_1': 'en'...</td>\n",
       "      <td>Released</td>\n",
       "      <td>They were given 2 weeks. It lasted 6 days.</td>\n",
       "      <td>The Stanford Prison Experiment</td>\n",
       "      <td>False</td>\n",
       "      <td>6.900</td>\n",
       "      <td>813.0</td>\n",
       "      <td>R</td>\n",
       "    </tr>\n",
       "    <tr>\n",
       "      <th>4</th>\n",
       "      <td>tt0462335</td>\n",
       "      <td>False</td>\n",
       "      <td>/wESuRMxELPAwo56qFRcoyI4p20F.jpg</td>\n",
       "      <td>None</td>\n",
       "      <td>0.0</td>\n",
       "      <td>[{'id': 18, 'name': 'Drama'}]</td>\n",
       "      <td>http://www.highrisefilm.com</td>\n",
       "      <td>254302.0</td>\n",
       "      <td>en</td>\n",
       "      <td>High-Rise</td>\n",
       "      <td>...</td>\n",
       "      <td>3.464720e+05</td>\n",
       "      <td>119.0</td>\n",
       "      <td>[{'english_name': 'French', 'iso_639_1': 'fr',...</td>\n",
       "      <td>Released</td>\n",
       "      <td>Leave the real world behind</td>\n",
       "      <td>High-Rise</td>\n",
       "      <td>False</td>\n",
       "      <td>5.655</td>\n",
       "      <td>983.0</td>\n",
       "      <td>R</td>\n",
       "    </tr>\n",
       "  </tbody>\n",
       "</table>\n",
       "<p>5 rows × 26 columns</p>\n",
       "</div>"
      ],
      "text/plain": [
       "     imdb_id  adult                     backdrop_path  \\\n",
       "0          0    NaN                               NaN   \n",
       "1  tt0191476  False                              None   \n",
       "2  tt0369610  False  /dF6FjTZzRTENfB4R17HDN20jLT2.jpg   \n",
       "3  tt0420293  False  /b0p0OPx1ZDZVc8iDB1kle0Cc2H9.jpg   \n",
       "4  tt0462335  False  /wESuRMxELPAwo56qFRcoyI4p20F.jpg   \n",
       "\n",
       "                               belongs_to_collection       budget  \\\n",
       "0                                                NaN          NaN   \n",
       "1                                               None          0.0   \n",
       "2  {'id': 328, 'name': 'Jurassic Park Collection'...  150000000.0   \n",
       "3                                               None          0.0   \n",
       "4                                               None          0.0   \n",
       "\n",
       "                                              genres  \\\n",
       "0                                                NaN   \n",
       "1                     [{'id': 35, 'name': 'Comedy'}]   \n",
       "2  [{'id': 28, 'name': 'Action'}, {'id': 12, 'nam...   \n",
       "3                   [{'id': 53, 'name': 'Thriller'}]   \n",
       "4                      [{'id': 18, 'name': 'Drama'}]   \n",
       "\n",
       "                                       homepage        id original_language  \\\n",
       "0                                           NaN       NaN               NaN   \n",
       "1                                                365165.0                ro   \n",
       "2                 http://www.jurassicworld.com/  135397.0                en   \n",
       "3  http://www.stanfordprisonexperimentfilm.com/  308032.0                en   \n",
       "4                   http://www.highrisefilm.com  254302.0                en   \n",
       "\n",
       "                   original_title  ...       revenue  runtime  \\\n",
       "0                             NaN  ...           NaN      NaN   \n",
       "1                Această lehamite  ...  0.000000e+00     98.0   \n",
       "2                  Jurassic World  ...  1.671713e+09    124.0   \n",
       "3  The Stanford Prison Experiment  ...  6.435570e+05    122.0   \n",
       "4                       High-Rise  ...  3.464720e+05    119.0   \n",
       "\n",
       "                                    spoken_languages    status  \\\n",
       "0                                                NaN       NaN   \n",
       "1  [{'english_name': 'Romanian', 'iso_639_1': 'ro...  Released   \n",
       "2  [{'english_name': 'English', 'iso_639_1': 'en'...  Released   \n",
       "3  [{'english_name': 'English', 'iso_639_1': 'en'...  Released   \n",
       "4  [{'english_name': 'French', 'iso_639_1': 'fr',...  Released   \n",
       "\n",
       "                                      tagline                           title  \\\n",
       "0                                         NaN                             NaN   \n",
       "1                                                                      Fed Up   \n",
       "2                           The park is open.                  Jurassic World   \n",
       "3  They were given 2 weeks. It lasted 6 days.  The Stanford Prison Experiment   \n",
       "4                 Leave the real world behind                       High-Rise   \n",
       "\n",
       "   video  vote_average vote_count certification  \n",
       "0    NaN           NaN        NaN           NaN  \n",
       "1  False         4.400        5.0           NaN  \n",
       "2  False         6.675    18412.0         PG-13  \n",
       "3  False         6.900      813.0             R  \n",
       "4  False         5.655      983.0             R  \n",
       "\n",
       "[5 rows x 26 columns]"
      ]
     },
     "execution_count": 248,
     "metadata": {},
     "output_type": "execute_result"
    }
   ],
   "source": [
    "df_combined=pd.DataFrame(files_combined)\n",
    "df_combined.head()"
   ]
  },
  {
   "cell_type": "markdown",
   "id": "5ff7b495",
   "metadata": {},
   "source": [
    "## Data loaded for Hypotesis"
   ]
  },
  {
   "cell_type": "code",
   "execution_count": 144,
   "id": "f702effd",
   "metadata": {},
   "outputs": [
    {
     "name": "stdout",
     "output_type": "stream",
     "text": [
      "<class 'pandas.core.frame.DataFrame'>\n",
      "RangeIndex: 21270 entries, 0 to 21269\n",
      "Data columns (total 26 columns):\n",
      " #   Column                 Non-Null Count  Dtype  \n",
      "---  ------                 --------------  -----  \n",
      " 0   imdb_id                21270 non-null  object \n",
      " 1   adult                  21265 non-null  object \n",
      " 2   backdrop_path          15333 non-null  object \n",
      " 3   belongs_to_collection  1252 non-null   object \n",
      " 4   budget                 21265 non-null  float64\n",
      " 5   genres                 21265 non-null  object \n",
      " 6   homepage               21265 non-null  object \n",
      " 7   id                     21265 non-null  float64\n",
      " 8   original_language      21265 non-null  object \n",
      " 9   original_title         21265 non-null  object \n",
      " 10  overview               21265 non-null  object \n",
      " 11  popularity             21265 non-null  float64\n",
      " 12  poster_path            20411 non-null  object \n",
      " 13  production_companies   21265 non-null  object \n",
      " 14  production_countries   21265 non-null  object \n",
      " 15  release_date           21265 non-null  object \n",
      " 16  revenue                21265 non-null  float64\n",
      " 17  runtime                21265 non-null  float64\n",
      " 18  spoken_languages       21265 non-null  object \n",
      " 19  status                 21265 non-null  object \n",
      " 20  tagline                21265 non-null  object \n",
      " 21  title                  21265 non-null  object \n",
      " 22  video                  21265 non-null  object \n",
      " 23  vote_average           21265 non-null  float64\n",
      " 24  vote_count             21265 non-null  float64\n",
      " 25  certification          11596 non-null  object \n",
      "dtypes: float64(7), object(19)\n",
      "memory usage: 4.2+ MB\n"
     ]
    }
   ],
   "source": [
    "df_combined.info()"
   ]
  },
  {
   "cell_type": "code",
   "execution_count": 145,
   "id": "9db81395",
   "metadata": {},
   "outputs": [
    {
     "data": {
      "text/plain": [
       "NaN        9674\n",
       "           7535\n",
       "R          1446\n",
       "NR         1177\n",
       "PG-13       855\n",
       "PG          399\n",
       "G           132\n",
       "NC-17        48\n",
       "Unrated       4\n",
       "Name: certification, dtype: int64"
      ]
     },
     "execution_count": 145,
     "metadata": {},
     "output_type": "execute_result"
    }
   ],
   "source": [
    "\n",
    "## Checking Certification values counts\n",
    "df_combined['certification'].value_counts(dropna = False)"
   ]
  },
  {
   "cell_type": "markdown",
   "id": "6957fabc",
   "metadata": {},
   "source": [
    "# Hypothesis 1"
   ]
  },
  {
   "cell_type": "markdown",
   "id": "fb817b83",
   "metadata": {},
   "source": [
    "Null hypothesis: All ratings does not have any significance difference based on revenue\n",
    "\n",
    "Alternative Hypothesis: There is significance difference based on revenue for the different ratings\n",
    "\n",
    "**Ratings to test ['PG-13', 'R', 'PG', 'NR', 'G'] **"
   ]
  },
  {
   "cell_type": "markdown",
   "id": "ed7a77ea",
   "metadata": {},
   "source": [
    "## Data Manipulation to test hypothesis"
   ]
  },
  {
   "cell_type": "code",
   "execution_count": 146,
   "id": "39efd921",
   "metadata": {},
   "outputs": [
    {
     "data": {
      "text/plain": [
       "(2200, 26)"
      ]
     },
     "execution_count": 146,
     "metadata": {},
     "output_type": "execute_result"
    }
   ],
   "source": [
    "df_revenue=df_combined.loc[df_combined['revenue']>0]\n",
    "df_revenue.shape"
   ]
  },
  {
   "cell_type": "code",
   "execution_count": 171,
   "id": "58cd5b2a",
   "metadata": {},
   "outputs": [
    {
     "data": {
      "text/plain": [
       "(2200, 26)"
      ]
     },
     "execution_count": 171,
     "metadata": {},
     "output_type": "execute_result"
    }
   ],
   "source": [
    "df_revenue_cert=df_revenue.dropna(subset=['certification'])\n",
    "df_revenue.shape"
   ]
  },
  {
   "cell_type": "code",
   "execution_count": 172,
   "id": "2ee8c6e6",
   "metadata": {},
   "outputs": [
    {
     "data": {
      "text/plain": [
       "R        565\n",
       "PG-13    407\n",
       "         366\n",
       "PG       154\n",
       "NR        75\n",
       "G         32\n",
       "NC-17      7\n",
       "Name: certification, dtype: int64"
      ]
     },
     "execution_count": 172,
     "metadata": {},
     "output_type": "execute_result"
    }
   ],
   "source": [
    "df_revenue_cert['certification'].value_counts(dropna = False)"
   ]
  },
  {
   "cell_type": "markdown",
   "id": "29071935",
   "metadata": {},
   "source": [
    "## Taking out blank ratings and NC-17 \n",
    "\n",
    "NC 17 doesn't have enough records for the hypothesis testing"
   ]
  },
  {
   "cell_type": "code",
   "execution_count": 173,
   "id": "266ae325",
   "metadata": {},
   "outputs": [],
   "source": [
    "\n",
    "df_rev_cert=df_revenue_cert.loc[df_revenue_cert['certification'].str.len()>0]\n",
    "df_rev_cert=df_rev_cert.loc[~(df_rev_cert['certification']==\"NC-17\")]"
   ]
  },
  {
   "cell_type": "code",
   "execution_count": 174,
   "id": "a8c33622",
   "metadata": {},
   "outputs": [],
   "source": [
    "df_rev_cert=df_rev_cert[['certification','revenue']]"
   ]
  },
  {
   "cell_type": "code",
   "execution_count": 175,
   "id": "3dc6000c",
   "metadata": {},
   "outputs": [
    {
     "data": {
      "text/plain": [
       "R        565\n",
       "PG-13    407\n",
       "PG       154\n",
       "NR        75\n",
       "G         32\n",
       "Name: certification, dtype: int64"
      ]
     },
     "execution_count": 175,
     "metadata": {},
     "output_type": "execute_result"
    }
   ],
   "source": [
    "df_rev_cert['certification'].value_counts(dropna = False)"
   ]
  },
  {
   "cell_type": "markdown",
   "id": "f993060e",
   "metadata": {},
   "source": [
    "## Splitting Ratings into groups"
   ]
  },
  {
   "cell_type": "code",
   "execution_count": 176,
   "id": "a580c01f",
   "metadata": {},
   "outputs": [
    {
     "data": {
      "text/plain": [
       "dict_keys(['PG-13', 'R', 'PG', 'NR', 'G'])"
      ]
     },
     "execution_count": 176,
     "metadata": {},
     "output_type": "execute_result"
    }
   ],
   "source": [
    "\n",
    "groups = {}\n",
    "## Loop through all unique categories\n",
    "for i in df_rev_cert['certification'].unique():\n",
    "    ## Get series for group and rename\n",
    "    data = df_rev_cert.loc[df_rev_cert['certification']==i,'revenue'].copy()\n",
    "    \n",
    "    # save into the dictionary\n",
    "    groups[i] = data\n",
    "groups.keys()"
   ]
  },
  {
   "cell_type": "markdown",
   "id": "36d25587",
   "metadata": {},
   "source": [
    "## Taking out outliers"
   ]
  },
  {
   "cell_type": "code",
   "execution_count": 177,
   "id": "6aa422b2",
   "metadata": {},
   "outputs": [],
   "source": [
    "for i in df_rev_cert['certification'].unique():\n",
    "    groups[i] = groups[i][(np.abs(stats.zscore(groups[i])) < 3)]"
   ]
  },
  {
   "cell_type": "markdown",
   "id": "90f8ebfa",
   "metadata": {},
   "source": [
    "## Normality Test"
   ]
  },
  {
   "cell_type": "code",
   "execution_count": 178,
   "id": "c6c1b5c5",
   "metadata": {},
   "outputs": [
    {
     "data": {
      "text/html": [
       "<div>\n",
       "<style scoped>\n",
       "    .dataframe tbody tr th:only-of-type {\n",
       "        vertical-align: middle;\n",
       "    }\n",
       "\n",
       "    .dataframe tbody tr th {\n",
       "        vertical-align: top;\n",
       "    }\n",
       "\n",
       "    .dataframe thead th {\n",
       "        text-align: right;\n",
       "    }\n",
       "</style>\n",
       "<table border=\"1\" class=\"dataframe\">\n",
       "  <thead>\n",
       "    <tr style=\"text-align: right;\">\n",
       "      <th></th>\n",
       "      <th>n</th>\n",
       "      <th>p</th>\n",
       "      <th>test stat</th>\n",
       "    </tr>\n",
       "  </thead>\n",
       "  <tbody>\n",
       "    <tr>\n",
       "      <th>PG-13</th>\n",
       "      <td>398.0</td>\n",
       "      <td>5.554947e-45</td>\n",
       "      <td>203.803280</td>\n",
       "    </tr>\n",
       "    <tr>\n",
       "      <th>R</th>\n",
       "      <td>553.0</td>\n",
       "      <td>6.806770e-73</td>\n",
       "      <td>332.341588</td>\n",
       "    </tr>\n",
       "    <tr>\n",
       "      <th>PG</th>\n",
       "      <td>150.0</td>\n",
       "      <td>6.185648e-16</td>\n",
       "      <td>70.038259</td>\n",
       "    </tr>\n",
       "    <tr>\n",
       "      <th>NR</th>\n",
       "      <td>73.0</td>\n",
       "      <td>5.892614e-09</td>\n",
       "      <td>37.899132</td>\n",
       "    </tr>\n",
       "    <tr>\n",
       "      <th>G</th>\n",
       "      <td>31.0</td>\n",
       "      <td>7.192229e-10</td>\n",
       "      <td>42.105699</td>\n",
       "    </tr>\n",
       "  </tbody>\n",
       "</table>\n",
       "</div>"
      ],
      "text/plain": [
       "           n             p   test stat\n",
       "PG-13  398.0  5.554947e-45  203.803280\n",
       "R      553.0  6.806770e-73  332.341588\n",
       "PG     150.0  6.185648e-16   70.038259\n",
       "NR      73.0  5.892614e-09   37.899132\n",
       "G       31.0  7.192229e-10   42.105699"
      ]
     },
     "execution_count": 178,
     "metadata": {},
     "output_type": "execute_result"
    }
   ],
   "source": [
    "## Running normal test on each group and confirming there are >20 in each group\n",
    "norm_results = {}\n",
    "for i, data in groups.items():\n",
    "    stat, p = stats.normaltest(data)\n",
    "    ## save the p val, test statistic, and the size of the group\n",
    "    norm_results[i] = {'n': len(data),\n",
    "                             'p':p,\n",
    "                             'test stat':stat,}\n",
    "## convert to a dataframe\n",
    "norm_results_df = pd.DataFrame(norm_results).T\n",
    "norm_results_df"
   ]
  },
  {
   "cell_type": "markdown",
   "id": "ca3cc873",
   "metadata": {},
   "source": [
    "The groups doesn't have normal distributions, but based in the amount of observations in each sample, we can ignore the normality assumption (n>=15)"
   ]
  },
  {
   "cell_type": "markdown",
   "id": "8efa8af7",
   "metadata": {},
   "source": [
    "## Variance Test"
   ]
  },
  {
   "cell_type": "code",
   "execution_count": 155,
   "id": "bd27b24f",
   "metadata": {},
   "outputs": [
    {
     "data": {
      "text/plain": [
       "LeveneResult(statistic=35.179240426689475, pvalue=8.175008245149918e-28)"
      ]
     },
     "execution_count": 155,
     "metadata": {},
     "output_type": "execute_result"
    }
   ],
   "source": [
    "stats.levene(*groups.values())"
   ]
  },
  {
   "cell_type": "markdown",
   "id": "a2e62d9f",
   "metadata": {},
   "source": [
    "Variance test not passed, a non-parametric test is needed to test hypothesis"
   ]
  },
  {
   "cell_type": "markdown",
   "id": "f6aa4184",
   "metadata": {},
   "source": [
    "## Hypothesis Test"
   ]
  },
  {
   "cell_type": "code",
   "execution_count": 180,
   "id": "a460e220",
   "metadata": {},
   "outputs": [
    {
     "data": {
      "text/plain": [
       "KruskalResult(statistic=161.85969752179176, pvalue=5.835195553732642e-34)"
      ]
     },
     "execution_count": 180,
     "metadata": {},
     "output_type": "execute_result"
    }
   ],
   "source": [
    "results = stats.kruskal(*groups.values())\n",
    "results\n"
   ]
  },
  {
   "cell_type": "markdown",
   "id": "da540d20",
   "metadata": {},
   "source": [
    "P value is below 5% alpha meaning that the null hypothesis can be rejected. There is significant difference between ratings"
   ]
  },
  {
   "cell_type": "code",
   "execution_count": 162,
   "id": "90144e33",
   "metadata": {},
   "outputs": [
    {
     "data": {
      "image/png": "[encoded data removed]",
      "text/plain": [
       "<Figure size 576x396 with 1 Axes>"
      ]
     },
     "metadata": {},
     "output_type": "display_data"
    }
   ],
   "source": [
    "sns.barplot(data=df_rev_cert,x='certification',y='revenue');"
   ]
  },
  {
   "cell_type": "markdown",
   "id": "d9dff5ad",
   "metadata": {},
   "source": [
    "The ratings that earn more revenue are PG and PG-13"
   ]
  },
  {
   "cell_type": "markdown",
   "id": "c938a660",
   "metadata": {},
   "source": [
    "# Hypothesis 2"
   ]
  },
  {
   "cell_type": "markdown",
   "id": "954e4c4b",
   "metadata": {},
   "source": [
    "Null hypothesis: Movies released in 2018 and movies released in 2019 doesn't have any significant difference in revenue\n",
    "\n",
    "\n",
    "\n",
    "Alternative Hypothesis: There is significance difference for movies released in 2018 and movies that were released in 2019.\n"
   ]
  },
  {
   "cell_type": "code",
   "execution_count": 282,
   "id": "66c9736a",
   "metadata": {},
   "outputs": [
    {
     "data": {
      "text/plain": [
       "imdb_id                      0\n",
       "adult                        5\n",
       "backdrop_path             5937\n",
       "belongs_to_collection    20018\n",
       "budget                       5\n",
       "genres                       5\n",
       "homepage                     5\n",
       "id                           5\n",
       "original_language            5\n",
       "original_title               5\n",
       "overview                     5\n",
       "popularity                   5\n",
       "poster_path                859\n",
       "production_companies         5\n",
       "production_countries         5\n",
       "release_date                 5\n",
       "revenue                      5\n",
       "runtime                      5\n",
       "spoken_languages             5\n",
       "status                       5\n",
       "tagline                      5\n",
       "title                        5\n",
       "video                        5\n",
       "vote_average                 5\n",
       "vote_count                   5\n",
       "certification             9674\n",
       "year                         5\n",
       "month                      351\n",
       "day                        351\n",
       "dtype: int64"
      ]
     },
     "execution_count": 282,
     "metadata": {},
     "output_type": "execute_result"
    }
   ],
   "source": [
    "df_combined.isna().sum()"
   ]
  },
  {
   "cell_type": "code",
   "execution_count": 283,
   "id": "4e333113",
   "metadata": {},
   "outputs": [],
   "source": [
    "df_combined[['year','month','day']]=df_combined['release_date'].str.split(\"-\",expand=True)           "
   ]
  },
  {
   "cell_type": "markdown",
   "id": "031d9dc6",
   "metadata": {},
   "source": [
    "## Data manipulation"
   ]
  },
  {
   "cell_type": "code",
   "execution_count": 288,
   "id": "dd30c11a",
   "metadata": {},
   "outputs": [
    {
     "data": {
      "text/html": [
       "<div>\n",
       "<style scoped>\n",
       "    .dataframe tbody tr th:only-of-type {\n",
       "        vertical-align: middle;\n",
       "    }\n",
       "\n",
       "    .dataframe tbody tr th {\n",
       "        vertical-align: top;\n",
       "    }\n",
       "\n",
       "    .dataframe thead th {\n",
       "        text-align: right;\n",
       "    }\n",
       "</style>\n",
       "<table border=\"1\" class=\"dataframe\">\n",
       "  <thead>\n",
       "    <tr style=\"text-align: right;\">\n",
       "      <th></th>\n",
       "      <th>imdb_id</th>\n",
       "      <th>adult</th>\n",
       "      <th>backdrop_path</th>\n",
       "      <th>belongs_to_collection</th>\n",
       "      <th>budget</th>\n",
       "      <th>genres</th>\n",
       "      <th>homepage</th>\n",
       "      <th>id</th>\n",
       "      <th>original_language</th>\n",
       "      <th>original_title</th>\n",
       "      <th>...</th>\n",
       "      <th>status</th>\n",
       "      <th>tagline</th>\n",
       "      <th>title</th>\n",
       "      <th>video</th>\n",
       "      <th>vote_average</th>\n",
       "      <th>vote_count</th>\n",
       "      <th>certification</th>\n",
       "      <th>year</th>\n",
       "      <th>month</th>\n",
       "      <th>day</th>\n",
       "    </tr>\n",
       "  </thead>\n",
       "  <tbody>\n",
       "    <tr>\n",
       "      <th>2</th>\n",
       "      <td>tt0369610</td>\n",
       "      <td>False</td>\n",
       "      <td>/dF6FjTZzRTENfB4R17HDN20jLT2.jpg</td>\n",
       "      <td>{'id': 328, 'name': 'Jurassic Park Collection'...</td>\n",
       "      <td>150000000.0</td>\n",
       "      <td>[{'id': 28, 'name': 'Action'}, {'id': 12, 'nam...</td>\n",
       "      <td>http://www.jurassicworld.com/</td>\n",
       "      <td>135397.0</td>\n",
       "      <td>en</td>\n",
       "      <td>Jurassic World</td>\n",
       "      <td>...</td>\n",
       "      <td>Released</td>\n",
       "      <td>The park is open.</td>\n",
       "      <td>Jurassic World</td>\n",
       "      <td>False</td>\n",
       "      <td>6.675</td>\n",
       "      <td>18412.0</td>\n",
       "      <td>PG-13</td>\n",
       "      <td>2015</td>\n",
       "      <td>06</td>\n",
       "      <td>06</td>\n",
       "    </tr>\n",
       "    <tr>\n",
       "      <th>3</th>\n",
       "      <td>tt0420293</td>\n",
       "      <td>False</td>\n",
       "      <td>/b0p0OPx1ZDZVc8iDB1kle0Cc2H9.jpg</td>\n",
       "      <td>None</td>\n",
       "      <td>0.0</td>\n",
       "      <td>[{'id': 53, 'name': 'Thriller'}]</td>\n",
       "      <td>http://www.stanfordprisonexperimentfilm.com/</td>\n",
       "      <td>308032.0</td>\n",
       "      <td>en</td>\n",
       "      <td>The Stanford Prison Experiment</td>\n",
       "      <td>...</td>\n",
       "      <td>Released</td>\n",
       "      <td>They were given 2 weeks. It lasted 6 days.</td>\n",
       "      <td>The Stanford Prison Experiment</td>\n",
       "      <td>False</td>\n",
       "      <td>6.900</td>\n",
       "      <td>813.0</td>\n",
       "      <td>R</td>\n",
       "      <td>2015</td>\n",
       "      <td>07</td>\n",
       "      <td>17</td>\n",
       "    </tr>\n",
       "    <tr>\n",
       "      <th>4</th>\n",
       "      <td>tt0462335</td>\n",
       "      <td>False</td>\n",
       "      <td>/wESuRMxELPAwo56qFRcoyI4p20F.jpg</td>\n",
       "      <td>None</td>\n",
       "      <td>0.0</td>\n",
       "      <td>[{'id': 18, 'name': 'Drama'}]</td>\n",
       "      <td>http://www.highrisefilm.com</td>\n",
       "      <td>254302.0</td>\n",
       "      <td>en</td>\n",
       "      <td>High-Rise</td>\n",
       "      <td>...</td>\n",
       "      <td>Released</td>\n",
       "      <td>Leave the real world behind</td>\n",
       "      <td>High-Rise</td>\n",
       "      <td>False</td>\n",
       "      <td>5.655</td>\n",
       "      <td>983.0</td>\n",
       "      <td>R</td>\n",
       "      <td>2015</td>\n",
       "      <td>11</td>\n",
       "      <td>22</td>\n",
       "    </tr>\n",
       "    <tr>\n",
       "      <th>5</th>\n",
       "      <td>tt0478970</td>\n",
       "      <td>False</td>\n",
       "      <td>/1K3JmSNUN8OpjYsCjc0Hy0SYxAb.jpg</td>\n",
       "      <td>{'id': 422834, 'name': 'Ant-Man Collection', '...</td>\n",
       "      <td>130000000.0</td>\n",
       "      <td>[{'id': 878, 'name': 'Science Fiction'}, {'id'...</td>\n",
       "      <td>http://marvel.com/movies/movie/180/ant-man</td>\n",
       "      <td>102899.0</td>\n",
       "      <td>en</td>\n",
       "      <td>Ant-Man</td>\n",
       "      <td>...</td>\n",
       "      <td>Released</td>\n",
       "      <td>Heroes don't get any bigger.</td>\n",
       "      <td>Ant-Man</td>\n",
       "      <td>False</td>\n",
       "      <td>7.100</td>\n",
       "      <td>17436.0</td>\n",
       "      <td>PG-13</td>\n",
       "      <td>2015</td>\n",
       "      <td>07</td>\n",
       "      <td>14</td>\n",
       "    </tr>\n",
       "    <tr>\n",
       "      <th>6</th>\n",
       "      <td>tt0787524</td>\n",
       "      <td>False</td>\n",
       "      <td>/cJ6dqrHhts085zJTMaXECjp0RfX.jpg</td>\n",
       "      <td>None</td>\n",
       "      <td>0.0</td>\n",
       "      <td>[{'id': 18, 'name': 'Drama'}]</td>\n",
       "      <td>http://www.ifcfilms.com/films/the-man-who-knew...</td>\n",
       "      <td>353326.0</td>\n",
       "      <td>en</td>\n",
       "      <td>The Man Who Knew Infinity</td>\n",
       "      <td>...</td>\n",
       "      <td>Released</td>\n",
       "      <td>What does it take to prove the impossible?</td>\n",
       "      <td>The Man Who Knew Infinity</td>\n",
       "      <td>False</td>\n",
       "      <td>7.185</td>\n",
       "      <td>1192.0</td>\n",
       "      <td>PG-13</td>\n",
       "      <td>2016</td>\n",
       "      <td>04</td>\n",
       "      <td>08</td>\n",
       "    </tr>\n",
       "  </tbody>\n",
       "</table>\n",
       "<p>5 rows × 29 columns</p>\n",
       "</div>"
      ],
      "text/plain": [
       "     imdb_id  adult                     backdrop_path  \\\n",
       "2  tt0369610  False  /dF6FjTZzRTENfB4R17HDN20jLT2.jpg   \n",
       "3  tt0420293  False  /b0p0OPx1ZDZVc8iDB1kle0Cc2H9.jpg   \n",
       "4  tt0462335  False  /wESuRMxELPAwo56qFRcoyI4p20F.jpg   \n",
       "5  tt0478970  False  /1K3JmSNUN8OpjYsCjc0Hy0SYxAb.jpg   \n",
       "6  tt0787524  False  /cJ6dqrHhts085zJTMaXECjp0RfX.jpg   \n",
       "\n",
       "                               belongs_to_collection       budget  \\\n",
       "2  {'id': 328, 'name': 'Jurassic Park Collection'...  150000000.0   \n",
       "3                                               None          0.0   \n",
       "4                                               None          0.0   \n",
       "5  {'id': 422834, 'name': 'Ant-Man Collection', '...  130000000.0   \n",
       "6                                               None          0.0   \n",
       "\n",
       "                                              genres  \\\n",
       "2  [{'id': 28, 'name': 'Action'}, {'id': 12, 'nam...   \n",
       "3                   [{'id': 53, 'name': 'Thriller'}]   \n",
       "4                      [{'id': 18, 'name': 'Drama'}]   \n",
       "5  [{'id': 878, 'name': 'Science Fiction'}, {'id'...   \n",
       "6                      [{'id': 18, 'name': 'Drama'}]   \n",
       "\n",
       "                                            homepage        id  \\\n",
       "2                      http://www.jurassicworld.com/  135397.0   \n",
       "3       http://www.stanfordprisonexperimentfilm.com/  308032.0   \n",
       "4                        http://www.highrisefilm.com  254302.0   \n",
       "5         http://marvel.com/movies/movie/180/ant-man  102899.0   \n",
       "6  http://www.ifcfilms.com/films/the-man-who-knew...  353326.0   \n",
       "\n",
       "  original_language                  original_title  ...    status  \\\n",
       "2                en                  Jurassic World  ...  Released   \n",
       "3                en  The Stanford Prison Experiment  ...  Released   \n",
       "4                en                       High-Rise  ...  Released   \n",
       "5                en                         Ant-Man  ...  Released   \n",
       "6                en       The Man Who Knew Infinity  ...  Released   \n",
       "\n",
       "                                      tagline                           title  \\\n",
       "2                           The park is open.                  Jurassic World   \n",
       "3  They were given 2 weeks. It lasted 6 days.  The Stanford Prison Experiment   \n",
       "4                 Leave the real world behind                       High-Rise   \n",
       "5                Heroes don't get any bigger.                         Ant-Man   \n",
       "6  What does it take to prove the impossible?       The Man Who Knew Infinity   \n",
       "\n",
       "   video vote_average vote_count  certification  year month day  \n",
       "2  False        6.675    18412.0          PG-13  2015    06  06  \n",
       "3  False        6.900      813.0              R  2015    07  17  \n",
       "4  False        5.655      983.0              R  2015    11  22  \n",
       "5  False        7.100    17436.0          PG-13  2015    07  14  \n",
       "6  False        7.185     1192.0          PG-13  2016    04  08  \n",
       "\n",
       "[5 rows x 29 columns]"
      ]
     },
     "execution_count": 288,
     "metadata": {},
     "output_type": "execute_result"
    }
   ],
   "source": [
    "df_years=df_combined.dropna(subset=['year'])\n",
    "\n",
    "df_years=df_years.loc[df_years['revenue']>0]\n",
    "\n",
    "df_years.head()"
   ]
  },
  {
   "cell_type": "code",
   "execution_count": 285,
   "id": "26674cfb",
   "metadata": {},
   "outputs": [
    {
     "data": {
      "text/plain": [
       "(392,)"
      ]
     },
     "metadata": {},
     "output_type": "display_data"
    },
    {
     "data": {
      "text/plain": [
       "(412,)"
      ]
     },
     "metadata": {},
     "output_type": "display_data"
    }
   ],
   "source": [
    "y2019_df=df_years.loc[df_years['year']=='2019',['revenue']]\n",
    "y2018_df=df_years.loc[df_years['year']=='2018',['revenue']]\n",
    "\n",
    "y2019=y2019_df['revenue']\n",
    "y2018=y2018_df['revenue']\n",
    "\n",
    "display(y2019.shape,y2018.shape)"
   ]
  },
  {
   "cell_type": "markdown",
   "id": "671255a2",
   "metadata": {},
   "source": [
    "## Outliers Check"
   ]
  },
  {
   "cell_type": "code",
   "execution_count": 286,
   "id": "c5e89bf9",
   "metadata": {},
   "outputs": [
    {
     "data": {
      "text/plain": [
       "(382,)"
      ]
     },
     "metadata": {},
     "output_type": "display_data"
    },
    {
     "data": {
      "text/plain": [
       "(403,)"
      ]
     },
     "metadata": {},
     "output_type": "display_data"
    }
   ],
   "source": [
    "y2019 = y2019[(np.abs(stats.zscore(y2019)) < 3)]\n",
    "y2018 = y2018[(np.abs(stats.zscore(y2018)) < 3)]\n",
    "display(y2019.shape,y2018.shape)"
   ]
  },
  {
   "cell_type": "markdown",
   "id": "c8c064f1",
   "metadata": {},
   "source": [
    "## Normality Test"
   ]
  },
  {
   "cell_type": "code",
   "execution_count": 279,
   "id": "60245cde",
   "metadata": {},
   "outputs": [
    {
     "data": {
      "text/plain": [
       "NormaltestResult(statistic=338.4662921861445, pvalue=3.1840398655374443e-74)"
      ]
     },
     "metadata": {},
     "output_type": "display_data"
    },
    {
     "data": {
      "text/plain": [
       "NormaltestResult(statistic=297.19333653694036, pvalue=2.9193552179982727e-65)"
      ]
     },
     "metadata": {},
     "output_type": "display_data"
    }
   ],
   "source": [
    "y2019_result = stats.normaltest(y2019)\n",
    "y2018_result = stats.normaltest(y2018)\n",
    "display(y2019_result,y2018_result)"
   ]
  },
  {
   "cell_type": "markdown",
   "id": "6a785bfa",
   "metadata": {},
   "source": [
    "Both samples doesn't have normal distributions, but based in the amount of observations in each sample, we can ignore the normality assumption (n>15)"
   ]
  },
  {
   "cell_type": "markdown",
   "id": "f7079eff",
   "metadata": {},
   "source": [
    "## Equal Variance Test"
   ]
  },
  {
   "cell_type": "code",
   "execution_count": 280,
   "id": "ed4e9a1d",
   "metadata": {},
   "outputs": [
    {
     "data": {
      "text/plain": [
       "LeveneResult(statistic=0.6754725198999, pvalue=0.41140030501109104)"
      ]
     },
     "execution_count": 280,
     "metadata": {},
     "output_type": "execute_result"
    }
   ],
   "source": [
    "result = stats.levene(y2019,y2018)\n",
    "result"
   ]
  },
  {
   "cell_type": "markdown",
   "id": "d3d53645",
   "metadata": {},
   "source": [
    "Variance is the same for both samples"
   ]
  },
  {
   "cell_type": "markdown",
   "id": "9f487a7d",
   "metadata": {},
   "source": [
    "## Hypothesis Test"
   ]
  },
  {
   "cell_type": "code",
   "execution_count": 281,
   "id": "fed98d0a",
   "metadata": {},
   "outputs": [
    {
     "data": {
      "text/plain": [
       "Ttest_indResult(statistic=-0.8687764625362723, pvalue=0.38523562040123005)"
      ]
     },
     "execution_count": 281,
     "metadata": {},
     "output_type": "execute_result"
    }
   ],
   "source": [
    " stats.ttest_ind(y2019, y2018)"
   ]
  },
  {
   "cell_type": "markdown",
   "id": "3372e646",
   "metadata": {},
   "source": [
    "P value is above 5% alpha meaning that we cannot reject the null hypothesis"
   ]
  },
  {
   "cell_type": "code",
   "execution_count": 305,
   "id": "7bd840dd",
   "metadata": {},
   "outputs": [
    {
     "data": {
      "text/html": [
       "<div>\n",
       "<style scoped>\n",
       "    .dataframe tbody tr th:only-of-type {\n",
       "        vertical-align: middle;\n",
       "    }\n",
       "\n",
       "    .dataframe tbody tr th {\n",
       "        vertical-align: top;\n",
       "    }\n",
       "\n",
       "    .dataframe thead th {\n",
       "        text-align: right;\n",
       "    }\n",
       "</style>\n",
       "<table border=\"1\" class=\"dataframe\">\n",
       "  <thead>\n",
       "    <tr style=\"text-align: right;\">\n",
       "      <th></th>\n",
       "      <th>revenue</th>\n",
       "    </tr>\n",
       "  </thead>\n",
       "  <tbody>\n",
       "    <tr>\n",
       "      <th>7803</th>\n",
       "      <td>111353135.0</td>\n",
       "    </tr>\n",
       "    <tr>\n",
       "      <th>9823</th>\n",
       "      <td>140000.0</td>\n",
       "    </tr>\n",
       "    <tr>\n",
       "      <th>12218</th>\n",
       "      <td>600654.0</td>\n",
       "    </tr>\n",
       "    <tr>\n",
       "      <th>12280</th>\n",
       "      <td>6424420.0</td>\n",
       "    </tr>\n",
       "    <tr>\n",
       "      <th>12288</th>\n",
       "      <td>130000.0</td>\n",
       "    </tr>\n",
       "    <tr>\n",
       "      <th>...</th>\n",
       "      <td>...</td>\n",
       "    </tr>\n",
       "    <tr>\n",
       "      <th>21123</th>\n",
       "      <td>2197075.0</td>\n",
       "    </tr>\n",
       "    <tr>\n",
       "      <th>21133</th>\n",
       "      <td>1964806.0</td>\n",
       "    </tr>\n",
       "    <tr>\n",
       "      <th>21175</th>\n",
       "      <td>15712.0</td>\n",
       "    </tr>\n",
       "    <tr>\n",
       "      <th>21194</th>\n",
       "      <td>103047.0</td>\n",
       "    </tr>\n",
       "    <tr>\n",
       "      <th>21229</th>\n",
       "      <td>42200.0</td>\n",
       "    </tr>\n",
       "  </tbody>\n",
       "</table>\n",
       "<p>392 rows × 1 columns</p>\n",
       "</div>"
      ],
      "text/plain": [
       "           revenue\n",
       "7803   111353135.0\n",
       "9823      140000.0\n",
       "12218     600654.0\n",
       "12280    6424420.0\n",
       "12288     130000.0\n",
       "...            ...\n",
       "21123    2197075.0\n",
       "21133    1964806.0\n",
       "21175      15712.0\n",
       "21194     103047.0\n",
       "21229      42200.0\n",
       "\n",
       "[392 rows x 1 columns]"
      ]
     },
     "execution_count": 305,
     "metadata": {},
     "output_type": "execute_result"
    }
   ],
   "source": [
    "y2019_df"
   ]
  },
  {
   "cell_type": "code",
   "execution_count": 314,
   "id": "edff2087",
   "metadata": {},
   "outputs": [
    {
     "data": {
      "image/png": "[encoded data removed]",
      "text/plain": [
       "<Figure size 720x360 with 2 Axes>"
      ]
     },
     "metadata": {},
     "output_type": "display_data"
    }
   ],
   "source": [
    "fig, (ax,ax_bar) = plt.subplots(figsize= (10,5), ncols=2, \n",
    "                                constrained_layout=True,\n",
    "                                gridspec_kw={'width_ratios':[0.5,0.5]})\n",
    "sns.barplot(data=y2019_df, y='revenue',ax = ax).set(title='2019')\n",
    "b=sns.barplot(data=y2018_df, y='revenue',ax = ax_bar).set(title='2018')\n"
   ]
  },
  {
   "cell_type": "markdown",
   "id": "9ae3f8e7",
   "metadata": {},
   "source": [
    "# Hypothesis 3\n"
   ]
  },
  {
   "cell_type": "markdown",
   "id": "9f070ac8",
   "metadata": {},
   "source": [
    "Null hypothesis: Movies that are over 2.5 hours and movies that are 1.5 hours long or less) doesn't have any significant difference in revenue\n",
    "\n",
    "\n",
    "\n",
    "Alternative Hypothesis: There is significance difference for movies that are over 2.5 hours and movies that are 1.5 hours long or less\n"
   ]
  },
  {
   "cell_type": "code",
   "execution_count": 200,
   "id": "de00ea72",
   "metadata": {
    "scrolled": true
   },
   "outputs": [
    {
     "data": {
      "text/plain": [
       "imdb_id                      0\n",
       "adult                        5\n",
       "backdrop_path             5937\n",
       "belongs_to_collection    20018\n",
       "budget                       5\n",
       "genres                       5\n",
       "homepage                     5\n",
       "id                           5\n",
       "original_language            5\n",
       "original_title               5\n",
       "overview                     5\n",
       "popularity                   5\n",
       "poster_path                859\n",
       "production_companies         5\n",
       "production_countries         5\n",
       "release_date                 5\n",
       "revenue                      5\n",
       "runtime                      5\n",
       "spoken_languages             5\n",
       "status                       5\n",
       "tagline                      5\n",
       "title                        5\n",
       "video                        5\n",
       "vote_average                 5\n",
       "vote_count                   5\n",
       "certification             9674\n",
       "dtype: int64"
      ]
     },
     "execution_count": 200,
     "metadata": {},
     "output_type": "execute_result"
    }
   ],
   "source": [
    "df_combined.isna().sum()"
   ]
  },
  {
   "cell_type": "code",
   "execution_count": 260,
   "id": "22c359de",
   "metadata": {},
   "outputs": [],
   "source": []
  },
  {
   "cell_type": "markdown",
   "id": "ab4ac811",
   "metadata": {},
   "source": [
    "## Data manipulation"
   ]
  },
  {
   "cell_type": "code",
   "execution_count": 297,
   "id": "f461a3b5",
   "metadata": {},
   "outputs": [
    {
     "data": {
      "text/html": [
       "<div>\n",
       "<style scoped>\n",
       "    .dataframe tbody tr th:only-of-type {\n",
       "        vertical-align: middle;\n",
       "    }\n",
       "\n",
       "    .dataframe tbody tr th {\n",
       "        vertical-align: top;\n",
       "    }\n",
       "\n",
       "    .dataframe thead th {\n",
       "        text-align: right;\n",
       "    }\n",
       "</style>\n",
       "<table border=\"1\" class=\"dataframe\">\n",
       "  <thead>\n",
       "    <tr style=\"text-align: right;\">\n",
       "      <th></th>\n",
       "      <th>imdb_id</th>\n",
       "      <th>adult</th>\n",
       "      <th>backdrop_path</th>\n",
       "      <th>belongs_to_collection</th>\n",
       "      <th>budget</th>\n",
       "      <th>genres</th>\n",
       "      <th>homepage</th>\n",
       "      <th>id</th>\n",
       "      <th>original_language</th>\n",
       "      <th>original_title</th>\n",
       "      <th>...</th>\n",
       "      <th>status</th>\n",
       "      <th>tagline</th>\n",
       "      <th>title</th>\n",
       "      <th>video</th>\n",
       "      <th>vote_average</th>\n",
       "      <th>vote_count</th>\n",
       "      <th>certification</th>\n",
       "      <th>year</th>\n",
       "      <th>month</th>\n",
       "      <th>day</th>\n",
       "    </tr>\n",
       "  </thead>\n",
       "  <tbody>\n",
       "    <tr>\n",
       "      <th>2</th>\n",
       "      <td>tt0369610</td>\n",
       "      <td>False</td>\n",
       "      <td>/dF6FjTZzRTENfB4R17HDN20jLT2.jpg</td>\n",
       "      <td>{'id': 328, 'name': 'Jurassic Park Collection'...</td>\n",
       "      <td>150000000.0</td>\n",
       "      <td>[{'id': 28, 'name': 'Action'}, {'id': 12, 'nam...</td>\n",
       "      <td>http://www.jurassicworld.com/</td>\n",
       "      <td>135397.0</td>\n",
       "      <td>en</td>\n",
       "      <td>Jurassic World</td>\n",
       "      <td>...</td>\n",
       "      <td>Released</td>\n",
       "      <td>The park is open.</td>\n",
       "      <td>Jurassic World</td>\n",
       "      <td>False</td>\n",
       "      <td>6.675</td>\n",
       "      <td>18412.0</td>\n",
       "      <td>PG-13</td>\n",
       "      <td>2015</td>\n",
       "      <td>06</td>\n",
       "      <td>06</td>\n",
       "    </tr>\n",
       "    <tr>\n",
       "      <th>3</th>\n",
       "      <td>tt0420293</td>\n",
       "      <td>False</td>\n",
       "      <td>/b0p0OPx1ZDZVc8iDB1kle0Cc2H9.jpg</td>\n",
       "      <td>None</td>\n",
       "      <td>0.0</td>\n",
       "      <td>[{'id': 53, 'name': 'Thriller'}]</td>\n",
       "      <td>http://www.stanfordprisonexperimentfilm.com/</td>\n",
       "      <td>308032.0</td>\n",
       "      <td>en</td>\n",
       "      <td>The Stanford Prison Experiment</td>\n",
       "      <td>...</td>\n",
       "      <td>Released</td>\n",
       "      <td>They were given 2 weeks. It lasted 6 days.</td>\n",
       "      <td>The Stanford Prison Experiment</td>\n",
       "      <td>False</td>\n",
       "      <td>6.900</td>\n",
       "      <td>813.0</td>\n",
       "      <td>R</td>\n",
       "      <td>2015</td>\n",
       "      <td>07</td>\n",
       "      <td>17</td>\n",
       "    </tr>\n",
       "    <tr>\n",
       "      <th>4</th>\n",
       "      <td>tt0462335</td>\n",
       "      <td>False</td>\n",
       "      <td>/wESuRMxELPAwo56qFRcoyI4p20F.jpg</td>\n",
       "      <td>None</td>\n",
       "      <td>0.0</td>\n",
       "      <td>[{'id': 18, 'name': 'Drama'}]</td>\n",
       "      <td>http://www.highrisefilm.com</td>\n",
       "      <td>254302.0</td>\n",
       "      <td>en</td>\n",
       "      <td>High-Rise</td>\n",
       "      <td>...</td>\n",
       "      <td>Released</td>\n",
       "      <td>Leave the real world behind</td>\n",
       "      <td>High-Rise</td>\n",
       "      <td>False</td>\n",
       "      <td>5.655</td>\n",
       "      <td>983.0</td>\n",
       "      <td>R</td>\n",
       "      <td>2015</td>\n",
       "      <td>11</td>\n",
       "      <td>22</td>\n",
       "    </tr>\n",
       "    <tr>\n",
       "      <th>5</th>\n",
       "      <td>tt0478970</td>\n",
       "      <td>False</td>\n",
       "      <td>/1K3JmSNUN8OpjYsCjc0Hy0SYxAb.jpg</td>\n",
       "      <td>{'id': 422834, 'name': 'Ant-Man Collection', '...</td>\n",
       "      <td>130000000.0</td>\n",
       "      <td>[{'id': 878, 'name': 'Science Fiction'}, {'id'...</td>\n",
       "      <td>http://marvel.com/movies/movie/180/ant-man</td>\n",
       "      <td>102899.0</td>\n",
       "      <td>en</td>\n",
       "      <td>Ant-Man</td>\n",
       "      <td>...</td>\n",
       "      <td>Released</td>\n",
       "      <td>Heroes don't get any bigger.</td>\n",
       "      <td>Ant-Man</td>\n",
       "      <td>False</td>\n",
       "      <td>7.100</td>\n",
       "      <td>17436.0</td>\n",
       "      <td>PG-13</td>\n",
       "      <td>2015</td>\n",
       "      <td>07</td>\n",
       "      <td>14</td>\n",
       "    </tr>\n",
       "    <tr>\n",
       "      <th>6</th>\n",
       "      <td>tt0787524</td>\n",
       "      <td>False</td>\n",
       "      <td>/cJ6dqrHhts085zJTMaXECjp0RfX.jpg</td>\n",
       "      <td>None</td>\n",
       "      <td>0.0</td>\n",
       "      <td>[{'id': 18, 'name': 'Drama'}]</td>\n",
       "      <td>http://www.ifcfilms.com/films/the-man-who-knew...</td>\n",
       "      <td>353326.0</td>\n",
       "      <td>en</td>\n",
       "      <td>The Man Who Knew Infinity</td>\n",
       "      <td>...</td>\n",
       "      <td>Released</td>\n",
       "      <td>What does it take to prove the impossible?</td>\n",
       "      <td>The Man Who Knew Infinity</td>\n",
       "      <td>False</td>\n",
       "      <td>7.185</td>\n",
       "      <td>1192.0</td>\n",
       "      <td>PG-13</td>\n",
       "      <td>2016</td>\n",
       "      <td>04</td>\n",
       "      <td>08</td>\n",
       "    </tr>\n",
       "  </tbody>\n",
       "</table>\n",
       "<p>5 rows × 29 columns</p>\n",
       "</div>"
      ],
      "text/plain": [
       "     imdb_id  adult                     backdrop_path  \\\n",
       "2  tt0369610  False  /dF6FjTZzRTENfB4R17HDN20jLT2.jpg   \n",
       "3  tt0420293  False  /b0p0OPx1ZDZVc8iDB1kle0Cc2H9.jpg   \n",
       "4  tt0462335  False  /wESuRMxELPAwo56qFRcoyI4p20F.jpg   \n",
       "5  tt0478970  False  /1K3JmSNUN8OpjYsCjc0Hy0SYxAb.jpg   \n",
       "6  tt0787524  False  /cJ6dqrHhts085zJTMaXECjp0RfX.jpg   \n",
       "\n",
       "                               belongs_to_collection       budget  \\\n",
       "2  {'id': 328, 'name': 'Jurassic Park Collection'...  150000000.0   \n",
       "3                                               None          0.0   \n",
       "4                                               None          0.0   \n",
       "5  {'id': 422834, 'name': 'Ant-Man Collection', '...  130000000.0   \n",
       "6                                               None          0.0   \n",
       "\n",
       "                                              genres  \\\n",
       "2  [{'id': 28, 'name': 'Action'}, {'id': 12, 'nam...   \n",
       "3                   [{'id': 53, 'name': 'Thriller'}]   \n",
       "4                      [{'id': 18, 'name': 'Drama'}]   \n",
       "5  [{'id': 878, 'name': 'Science Fiction'}, {'id'...   \n",
       "6                      [{'id': 18, 'name': 'Drama'}]   \n",
       "\n",
       "                                            homepage        id  \\\n",
       "2                      http://www.jurassicworld.com/  135397.0   \n",
       "3       http://www.stanfordprisonexperimentfilm.com/  308032.0   \n",
       "4                        http://www.highrisefilm.com  254302.0   \n",
       "5         http://marvel.com/movies/movie/180/ant-man  102899.0   \n",
       "6  http://www.ifcfilms.com/films/the-man-who-knew...  353326.0   \n",
       "\n",
       "  original_language                  original_title  ...    status  \\\n",
       "2                en                  Jurassic World  ...  Released   \n",
       "3                en  The Stanford Prison Experiment  ...  Released   \n",
       "4                en                       High-Rise  ...  Released   \n",
       "5                en                         Ant-Man  ...  Released   \n",
       "6                en       The Man Who Knew Infinity  ...  Released   \n",
       "\n",
       "                                      tagline                           title  \\\n",
       "2                           The park is open.                  Jurassic World   \n",
       "3  They were given 2 weeks. It lasted 6 days.  The Stanford Prison Experiment   \n",
       "4                 Leave the real world behind                       High-Rise   \n",
       "5                Heroes don't get any bigger.                         Ant-Man   \n",
       "6  What does it take to prove the impossible?       The Man Who Knew Infinity   \n",
       "\n",
       "   video vote_average vote_count  certification  year month day  \n",
       "2  False        6.675    18412.0          PG-13  2015    06  06  \n",
       "3  False        6.900      813.0              R  2015    07  17  \n",
       "4  False        5.655      983.0              R  2015    11  22  \n",
       "5  False        7.100    17436.0          PG-13  2015    07  14  \n",
       "6  False        7.185     1192.0          PG-13  2016    04  08  \n",
       "\n",
       "[5 rows x 29 columns]"
      ]
     },
     "execution_count": 297,
     "metadata": {},
     "output_type": "execute_result"
    }
   ],
   "source": [
    "df_runtime=df_combined.dropna(subset=['runtime'])\n",
    "\n",
    "df_runtime=df_runtime.loc[df_runtime['revenue']>0]\n",
    "\n",
    "df_runtime.head()"
   ]
  },
  {
   "cell_type": "code",
   "execution_count": 298,
   "id": "90fda63e",
   "metadata": {},
   "outputs": [
    {
     "data": {
      "text/plain": [
       "(78,)"
      ]
     },
     "metadata": {},
     "output_type": "display_data"
    },
    {
     "data": {
      "text/plain": [
       "(385,)"
      ]
     },
     "metadata": {},
     "output_type": "display_data"
    }
   ],
   "source": [
    "rt25_df=df_runtime.loc[df_runtime['runtime']>150,['revenue']]\n",
    "rt15_df=df_runtime.loc[df_runtime['runtime']<=90,['revenue']]\n",
    "\n",
    "rt25=rt25_df['revenue']\n",
    "rt15=rt15_df['revenue']\n",
    "\n",
    "display(rt25.shape,rt15.shape)"
   ]
  },
  {
   "cell_type": "markdown",
   "id": "305ebd4c",
   "metadata": {},
   "source": [
    "## Outliers Check"
   ]
  },
  {
   "cell_type": "code",
   "execution_count": 299,
   "id": "279386ae",
   "metadata": {},
   "outputs": [
    {
     "data": {
      "text/plain": [
       "(76,)"
      ]
     },
     "metadata": {},
     "output_type": "display_data"
    },
    {
     "data": {
      "text/plain": [
       "(381,)"
      ]
     },
     "metadata": {},
     "output_type": "display_data"
    }
   ],
   "source": [
    "rt25 = rt25[(np.abs(stats.zscore(rt25)) < 3)]\n",
    "rt15 = rt15[(np.abs(stats.zscore(rt15)) < 3)]\n",
    "display(rt25.shape,rt15.shape)"
   ]
  },
  {
   "cell_type": "markdown",
   "id": "0c13aea1",
   "metadata": {},
   "source": [
    "## Normality Test"
   ]
  },
  {
   "cell_type": "code",
   "execution_count": 300,
   "id": "f0bb2e58",
   "metadata": {},
   "outputs": [
    {
     "data": {
      "text/plain": [
       "NormaltestResult(statistic=75.9503133266141, pvalue=3.218096119946803e-17)"
      ]
     },
     "metadata": {},
     "output_type": "display_data"
    },
    {
     "data": {
      "text/plain": [
       "NormaltestResult(statistic=306.08054523437147, pvalue=3.4312636809001514e-67)"
      ]
     },
     "metadata": {},
     "output_type": "display_data"
    }
   ],
   "source": [
    "rt25_result = stats.normaltest(rt25)\n",
    "rt15_result = stats.normaltest(rt15)\n",
    "display(rt25_result,rt15_result)"
   ]
  },
  {
   "cell_type": "markdown",
   "id": "3bad0132",
   "metadata": {},
   "source": [
    "Both samples doesn't have normal distributions, but based in the amount of observations in each sample, we can ignore the normality assumption (n>15)"
   ]
  },
  {
   "cell_type": "markdown",
   "id": "46262f3e",
   "metadata": {},
   "source": [
    "## Equal Variance Test"
   ]
  },
  {
   "cell_type": "code",
   "execution_count": 301,
   "id": "d66815a5",
   "metadata": {},
   "outputs": [
    {
     "data": {
      "text/plain": [
       "LeveneResult(statistic=44.75701654009056, pvalue=6.567659552258852e-11)"
      ]
     },
     "execution_count": 301,
     "metadata": {},
     "output_type": "execute_result"
    }
   ],
   "source": [
    "result = stats.levene(rt25,rt15)\n",
    "result"
   ]
  },
  {
   "cell_type": "markdown",
   "id": "2babe30b",
   "metadata": {},
   "source": [
    "Variance is different for both samples"
   ]
  },
  {
   "cell_type": "markdown",
   "id": "20248eb1",
   "metadata": {},
   "source": [
    "## Hypothesis Test"
   ]
  },
  {
   "cell_type": "code",
   "execution_count": 303,
   "id": "addc8edc",
   "metadata": {},
   "outputs": [
    {
     "data": {
      "text/plain": [
       "Ttest_indResult(statistic=3.5192198414162865, pvalue=0.0007321706548985043)"
      ]
     },
     "execution_count": 303,
     "metadata": {},
     "output_type": "execute_result"
    }
   ],
   "source": [
    " stats.ttest_ind(rt25,rt15,equal_var=False,)"
   ]
  },
  {
   "cell_type": "markdown",
   "id": "aacd94b5",
   "metadata": {},
   "source": [
    "P value is below 5% alpha meaning that we can reject the null hypothesis. There is a significance difference between in revenue depending in the movie duration."
   ]
  },
  {
   "cell_type": "code",
   "execution_count": 316,
   "id": "47ca027d",
   "metadata": {},
   "outputs": [
    {
     "data": {
      "image/png": "[encoded data removed]",
      "text/plain": [
       "<Figure size 720x360 with 2 Axes>"
      ]
     },
     "metadata": {},
     "output_type": "display_data"
    }
   ],
   "source": [
    "fig, (ax,ax_bar) = plt.subplots(figsize= (10,5), ncols=2, \n",
    "                                constrained_layout=True,\n",
    "                                gridspec_kw={'width_ratios':[0.5,0.5]})\n",
    "sns.barplot(data=rt25_df, y='revenue',ax = ax).set(title='2.5 hours >')\n",
    "b=sns.barplot(data=rt15_df, y='revenue',ax = ax_bar).set(title='1.5 hours <')\n"
   ]
  },
  {
   "cell_type": "code",
   "execution_count": null,
   "id": "348d319f",
   "metadata": {},
   "outputs": [],
   "source": []
  }
 ],
 "metadata": {
  "kernelspec": {
   "display_name": "Python (dojo-env)",
   "language": "python",
   "name": "dojo-env"
  },
  "language_info": {
   "codemirror_mode": {
    "name": "ipython",
    "version": 3
   },
   "file_extension": ".py",
   "mimetype": "text/x-python",
   "name": "python",
   "nbconvert_exporter": "python",
   "pygments_lexer": "ipython3",
   "version": "3.8.13"
  },
  "toc": {
   "base_numbering": 1,
   "nav_menu": {},
   "number_sections": false,
   "sideBar": true,
   "skip_h1_title": false,
   "title_cell": "Table of Contents",
   "title_sidebar": "Contents",
   "toc_cell": false,
   "toc_position": {},
   "toc_section_display": true,
   "toc_window_display": true
  }
 },
 "nbformat": 4,
 "nbformat_minor": 5
}
