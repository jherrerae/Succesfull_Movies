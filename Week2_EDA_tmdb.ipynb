{
 "cells": [
  {
   "cell_type": "markdown",
   "id": "ca6d69ae",
   "metadata": {},
   "source": [
    "# Merge JSON files"
   ]
  },
  {
   "cell_type": "code",
   "execution_count": 30,
   "id": "4fdbc679",
   "metadata": {},
   "outputs": [],
   "source": [
    "import json\n",
    "import pandas as pd\n",
    "import matplotlib.pyplot as plt\n",
    "import seaborn as sns\n",
    "plt.style.use('seaborn')\n"
   ]
  },
  {
   "cell_type": "code",
   "execution_count": 31,
   "id": "577781ba",
   "metadata": {},
   "outputs": [],
   "source": [
    "years=[2000,2001]\n",
    "files_combined=[]"
   ]
  },
  {
   "cell_type": "code",
   "execution_count": 32,
   "id": "10e90964",
   "metadata": {},
   "outputs": [],
   "source": [
    "for YEAR in years:\n",
    "    JSON_FILE = f'Data/tmdb_api_results_{YEAR}.json'\n",
    "    with open(JSON_FILE, 'r') as file:\n",
    "            files_combined.extend(json.load(file))"
   ]
  },
  {
   "cell_type": "code",
   "execution_count": 49,
   "id": "07fe8b66",
   "metadata": {},
   "outputs": [],
   "source": [
    " with open('Data/tmdb_results_combined.csv.gz', 'w') as output_file:\n",
    "        json.dump(files_combined, output_file)"
   ]
  },
  {
   "cell_type": "code",
   "execution_count": 33,
   "id": "28f62687",
   "metadata": {},
   "outputs": [
    {
     "data": {
      "text/plain": [
       "2492"
      ]
     },
     "execution_count": 33,
     "metadata": {},
     "output_type": "execute_result"
    }
   ],
   "source": [
    "len(files_combined)"
   ]
  },
  {
   "cell_type": "code",
   "execution_count": 34,
   "id": "2381bdef",
   "metadata": {},
   "outputs": [],
   "source": [
    "df=pd.DataFrame(files_combined)"
   ]
  },
  {
   "cell_type": "code",
   "execution_count": 35,
   "id": "4eb2212d",
   "metadata": {},
   "outputs": [
    {
     "data": {
      "text/plain": [
       "(2492, 26)"
      ]
     },
     "execution_count": 35,
     "metadata": {},
     "output_type": "execute_result"
    }
   ],
   "source": [
    "df.shape"
   ]
  },
  {
   "cell_type": "code",
   "execution_count": 36,
   "id": "91a2a30b",
   "metadata": {
    "scrolled": true
   },
   "outputs": [
    {
     "name": "stdout",
     "output_type": "stream",
     "text": [
      "<class 'pandas.core.frame.DataFrame'>\n",
      "RangeIndex: 2492 entries, 0 to 2491\n",
      "Data columns (total 26 columns):\n",
      " #   Column                 Non-Null Count  Dtype  \n",
      "---  ------                 --------------  -----  \n",
      " 0   imdb_id                2492 non-null   object \n",
      " 1   adult                  2490 non-null   object \n",
      " 2   backdrop_path          1290 non-null   object \n",
      " 3   belongs_to_collection  197 non-null    object \n",
      " 4   budget                 2490 non-null   float64\n",
      " 5   genres                 2490 non-null   object \n",
      " 6   homepage               2490 non-null   object \n",
      " 7   id                     2490 non-null   float64\n",
      " 8   original_language      2490 non-null   object \n",
      " 9   original_title         2490 non-null   object \n",
      " 10  overview               2490 non-null   object \n",
      " 11  popularity             2490 non-null   float64\n",
      " 12  poster_path            2195 non-null   object \n",
      " 13  production_companies   2490 non-null   object \n",
      " 14  production_countries   2490 non-null   object \n",
      " 15  release_date           2490 non-null   object \n",
      " 16  revenue                2490 non-null   float64\n",
      " 17  runtime                2490 non-null   float64\n",
      " 18  spoken_languages       2490 non-null   object \n",
      " 19  status                 2490 non-null   object \n",
      " 20  tagline                2490 non-null   object \n",
      " 21  title                  2490 non-null   object \n",
      " 22  video                  2490 non-null   object \n",
      " 23  vote_average           2490 non-null   float64\n",
      " 24  vote_count             2490 non-null   float64\n",
      " 25  certification          1649 non-null   object \n",
      "dtypes: float64(7), object(19)\n",
      "memory usage: 506.3+ KB\n"
     ]
    }
   ],
   "source": [
    "df.info()"
   ]
  },
  {
   "cell_type": "code",
   "execution_count": 37,
   "id": "c4dfbeb2",
   "metadata": {},
   "outputs": [],
   "source": [
    "filter_revenue=df['revenue']>0\n",
    "filter_budget=df['budget']>0\n",
    "df_filtered=df[filter_revenue|filter_budget]"
   ]
  },
  {
   "cell_type": "code",
   "execution_count": 38,
   "id": "796fec0e",
   "metadata": {},
   "outputs": [
    {
     "data": {
      "text/plain": [
       "(619, 26)"
      ]
     },
     "execution_count": 38,
     "metadata": {},
     "output_type": "execute_result"
    }
   ],
   "source": [
    "df_filtered.shape"
   ]
  },
  {
   "cell_type": "markdown",
   "id": "032d80cd",
   "metadata": {},
   "source": [
    "# EDA"
   ]
  },
  {
   "cell_type": "code",
   "execution_count": 41,
   "id": "129aa47b",
   "metadata": {},
   "outputs": [
    {
     "data": {
      "image/png": "[encoded data removed]",
      "text/plain": [
       "<Figure size 576x396 with 1 Axes>"
      ]
     },
     "metadata": {},
     "output_type": "display_data"
    }
   ],
   "source": [
    "sns.countplot(data=df_filtered,x='certification');\n",
    "\n",
    "#Movies per certification category\n"
   ]
  },
  {
   "cell_type": "code",
   "execution_count": 45,
   "id": "9c3de5a2",
   "metadata": {},
   "outputs": [
    {
     "data": {
      "image/png": "[encoded data removed]",
      "text/plain": [
       "<Figure size 576x396 with 1 Axes>"
      ]
     },
     "metadata": {},
     "output_type": "display_data"
    }
   ],
   "source": [
    "sns.barplot(data=df_filtered,x='certification',y='revenue',ci=None);\n",
    "\n",
    "#Average Revenue per Certification"
   ]
  },
  {
   "cell_type": "code",
   "execution_count": 46,
   "id": "4d847299",
   "metadata": {},
   "outputs": [
    {
     "data": {
      "image/png": "[encoded data removed]",
      "text/plain": [
       "<Figure size 576x396 with 1 Axes>"
      ]
     },
     "metadata": {},
     "output_type": "display_data"
    }
   ],
   "source": [
    "sns.barplot(data=df_filtered,x='certification',y='budget',ci=None);\n",
    "\n",
    "#Average Budget per Certification"
   ]
  },
  {
   "cell_type": "code",
   "execution_count": 48,
   "id": "f872ea4d",
   "metadata": {},
   "outputs": [
    {
     "name": "stderr",
     "output_type": "stream",
     "text": [
      "C:\\Users\\JoseH\\AppData\\Local\\Temp\\ipykernel_6528\\763420654.py:1: FutureWarning: Indexing with multiple keys (implicitly converted to a tuple of keys) will be deprecated, use a list instead.\n",
      "  df_filtered.groupby('certification',dropna=False)['revenue','budget'].mean()\n"
     ]
    },
    {
     "data": {
      "text/html": [
       "<div>\n",
       "<style scoped>\n",
       "    .dataframe tbody tr th:only-of-type {\n",
       "        vertical-align: middle;\n",
       "    }\n",
       "\n",
       "    .dataframe tbody tr th {\n",
       "        vertical-align: top;\n",
       "    }\n",
       "\n",
       "    .dataframe thead th {\n",
       "        text-align: right;\n",
       "    }\n",
       "</style>\n",
       "<table border=\"1\" class=\"dataframe\">\n",
       "  <thead>\n",
       "    <tr style=\"text-align: right;\">\n",
       "      <th></th>\n",
       "      <th>revenue</th>\n",
       "      <th>budget</th>\n",
       "    </tr>\n",
       "    <tr>\n",
       "      <th>certification</th>\n",
       "      <th></th>\n",
       "      <th></th>\n",
       "    </tr>\n",
       "  </thead>\n",
       "  <tbody>\n",
       "    <tr>\n",
       "      <th></th>\n",
       "      <td>1.114918e+07</td>\n",
       "      <td>5.830014e+06</td>\n",
       "    </tr>\n",
       "    <tr>\n",
       "      <th>G</th>\n",
       "      <td>1.237085e+08</td>\n",
       "      <td>4.085714e+07</td>\n",
       "    </tr>\n",
       "    <tr>\n",
       "      <th>NR</th>\n",
       "      <td>8.887619e+06</td>\n",
       "      <td>6.300006e+06</td>\n",
       "    </tr>\n",
       "    <tr>\n",
       "      <th>PG</th>\n",
       "      <td>1.123378e+08</td>\n",
       "      <td>4.497857e+07</td>\n",
       "    </tr>\n",
       "    <tr>\n",
       "      <th>PG-13</th>\n",
       "      <td>9.970084e+07</td>\n",
       "      <td>4.348391e+07</td>\n",
       "    </tr>\n",
       "    <tr>\n",
       "      <th>R</th>\n",
       "      <td>3.334614e+07</td>\n",
       "      <td>2.013149e+07</td>\n",
       "    </tr>\n",
       "    <tr>\n",
       "      <th>NaN</th>\n",
       "      <td>2.951131e+06</td>\n",
       "      <td>2.002770e+06</td>\n",
       "    </tr>\n",
       "  </tbody>\n",
       "</table>\n",
       "</div>"
      ],
      "text/plain": [
       "                    revenue        budget\n",
       "certification                            \n",
       "               1.114918e+07  5.830014e+06\n",
       "G              1.237085e+08  4.085714e+07\n",
       "NR             8.887619e+06  6.300006e+06\n",
       "PG             1.123378e+08  4.497857e+07\n",
       "PG-13          9.970084e+07  4.348391e+07\n",
       "R              3.334614e+07  2.013149e+07\n",
       "NaN            2.951131e+06  2.002770e+06"
      ]
     },
     "execution_count": 48,
     "metadata": {},
     "output_type": "execute_result"
    }
   ],
   "source": [
    "df_filtered.groupby('certification',dropna=False)['revenue','budget'].mean()"
   ]
  },
  {
   "cell_type": "code",
   "execution_count": null,
   "id": "569e6d00",
   "metadata": {},
   "outputs": [],
   "source": []
  }
 ],
 "metadata": {
  "kernelspec": {
   "display_name": "Python (dojo-env)",
   "language": "python",
   "name": "dojo-env"
  },
  "language_info": {
   "codemirror_mode": {
    "name": "ipython",
    "version": 3
   },
   "file_extension": ".py",
   "mimetype": "text/x-python",
   "name": "python",
   "nbconvert_exporter": "python",
   "pygments_lexer": "ipython3",
   "version": "3.8.13"
  },
  "toc": {
   "base_numbering": 1,
   "nav_menu": {},
   "number_sections": false,
   "sideBar": true,
   "skip_h1_title": false,
   "title_cell": "Table of Contents",
   "title_sidebar": "Contents",
   "toc_cell": false,
   "toc_position": {
    "height": "calc(100% - 180px)",
    "left": "10px",
    "top": "150px",
    "width": "191.594px"
   },
   "toc_section_display": true,
   "toc_window_display": true
  }
 },
 "nbformat": 4,
 "nbformat_minor": 5
}
